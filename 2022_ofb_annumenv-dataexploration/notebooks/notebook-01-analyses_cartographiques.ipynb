{
 "cells": [
  {
   "cell_type": "markdown",
   "id": "803508f7",
   "metadata": {},
   "source": [
    "# Analyses cartographiques\n",
    "\n",
    "---\n",
    "Dans ce notebook nous allons explorer des approches pour restituer un ou deux indicateurs sur une carte en fonction de l'analyse souhaitée.\n",
    "\n",
    "Plusieurs cas de figure sont présentés ci-après.\n",
    "\n",
    "\n",
    "**Représentation d'un indicateur à une date t**\n",
    "\n",
    "1. Indicateur numérique\n",
    "\n",
    "> Carte de chaleur\n",
    "\n",
    "> Discrétisation selon un seuil et visualisation des catégories sur une carte de couleur\n",
    "\n",
    "\n",
    "2. Indicateur catégoriel\n",
    "\n",
    "> Visualisation des catégories sur une carte de couleur\n",
    "\n",
    "\n",
    "**Représentation de l'évolution d'un indicateur entre deux dates t1 et t2**\n",
    "\n",
    "1. Indicateur numérique\n",
    "\n",
    "> Calcul du delta entre les deux dates ($Xt2 - Xt1$) et visualisation du résultat sur une carte de chaleur \n",
    "\n",
    "2. Indicateur catégoriel\n",
    "\n",
    "> Création de nouvelles catégories des évolutions possibles, et visualisation de ces croisements sur une carte de couleur. \n",
    "\n",
    "    Exemple : indicateur avec deux catégories \"Yes\", \"No\" --> Croisement :\n",
    "        \n",
    "        - \"Yes - No\"\n",
    "        - \"No - Yes\"\n",
    "        - \"No\" (n'a pas changé, i.e. \"No - No\")\n",
    "        - \"Yes\" (n'a pas changé, i.e. \"Yes - Yes\")\n",
    "\n",
    "\n",
    "**Représentation du croisement entre deux indicateurs**\n",
    "\n",
    "1. Indicateurs numériques\n",
    "\n",
    "> Définir un seuil pour chaque indicateur\n",
    "\n",
    "> Créer deux catégories supérieur/inférieur pour chaque indicateur en fonction du seuil\n",
    "\n",
    "> Croiser les nouvelles catégories des 2 indicateurs (4 catégories résultantes) et les visualiser sur une carte de couleurs\n",
    "\n",
    "2. Indicateurs catégoriels\n",
    "\n",
    "> croisement des catégories et visualisation sur uen carte de couleur\n",
    "\n",
    "3. Indicateurs Catégoriel x Numérique\n",
    "\n",
    "> Créer deux catégories pour l'indicateur numérique à parir d'un seuil défini\n",
    "\n",
    "> Croiser les nouvelles catégories de l'indicateur numérique avec celles de l'indicateur catégoriel et visualiser sur une carte de couleur"
   ]
  },
  {
   "cell_type": "markdown",
   "id": "c39e2898",
   "metadata": {},
   "source": [
    "### Import des librairies"
   ]
  },
  {
   "cell_type": "code",
   "execution_count": 1,
   "id": "227ef675",
   "metadata": {},
   "outputs": [
    {
     "data": {
      "text/html": [
       "\n",
       "<style>\n",
       "    div#notebook-container    { width: 99%; }\n",
       "    div#menubar-container     { width: 99%; }\n",
       "    div#maintoolbar-container { width: 99%; }\n",
       "</style>\n"
      ],
      "text/plain": [
       "<IPython.core.display.HTML object>"
      ]
     },
     "metadata": {},
     "output_type": "display_data"
    }
   ],
   "source": [
    "%config IPCompleter.use_jedi = False\n",
    "from IPython.display import display, HTML\n",
    "\n",
    "\n",
    "display(HTML(data=\"\"\"\n",
    "<style>\n",
    "    div#notebook-container    { width: 99%; }\n",
    "    div#menubar-container     { width: 99%; }\n",
    "    div#maintoolbar-container { width: 99%; }\n",
    "</style>\n",
    "\"\"\"))"
   ]
  },
  {
   "cell_type": "code",
   "execution_count": 2,
   "id": "11a46977",
   "metadata": {},
   "outputs": [],
   "source": [
    "import pandas as pd\n",
    "import numpy as np\n",
    "import os\n",
    "import glob\n",
    "import pathlib\n",
    "import geopandas as gpd\n",
    "import matplotlib.pyplot as plt\n",
    "import plotly_express as px\n",
    "import pyproj\n",
    "import shapely\n",
    "import gc\n",
    "from ipywidgets import interact, Dropdown, Select, FloatSlider\n",
    "from pandarallel import pandarallel\n",
    "import multiprocessing as mp\n",
    "from tqdm.auto import tqdm\n",
    "\n",
    "%matplotlib inline"
   ]
  },
  {
   "cell_type": "code",
   "execution_count": 3,
   "id": "48ce7128",
   "metadata": {},
   "outputs": [
    {
     "name": "stdout",
     "output_type": "stream",
     "text": [
      "INFO: Pandarallel will run on 4 workers.\n",
      "INFO: Pandarallel will use standard multiprocessing data transfer (pipe) to transfer data between the main process and workers.\n"
     ]
    }
   ],
   "source": [
    "pandarallel.initialize(progress_bar=True, nb_workers=mp.cpu_count())"
   ]
  },
  {
   "cell_type": "markdown",
   "id": "c8c0c1c9",
   "metadata": {},
   "source": [
    "### Chargement des données\n",
    "\n",
    "Ici nous allons nous concentrer sur la maille 5x5 pour raccourcir les temps de traitements. \n",
    "\n",
    "Les données que nous allons utiliser dans ce notebook ont été traitées dans le notebook précédent [`notebook-00-exploration-traitement-donnees.ipynb`](./notebook-00-exploration-traitement-donnees.ipynb)"
   ]
  },
  {
   "cell_type": "code",
   "execution_count": 4,
   "id": "f0e55069",
   "metadata": {},
   "outputs": [],
   "source": [
    "df_full_5x5_proj = pd.read_pickle(\"../data/donnees_2022-02-27/df_full_5x5.pklz\")"
   ]
  },
  {
   "cell_type": "code",
   "execution_count": 6,
   "id": "8a544014",
   "metadata": {},
   "outputs": [],
   "source": [
    "# Liste des régions\n",
    "list_regions = [\"Bretagne\", \"PACA\", \"Corse\"]"
   ]
  },
  {
   "cell_type": "markdown",
   "id": "9cdad9f8",
   "metadata": {},
   "source": [
    "Nous allons récupérer la liste des indicateurs numériques, ainsi que les dates renseignées pour chaque indicateur :"
   ]
  },
  {
   "cell_type": "code",
   "execution_count": 7,
   "id": "bb2073d1",
   "metadata": {},
   "outputs": [],
   "source": [
    "list_indicators_num = sorted(list(df_full_5x5_proj[df_full_5x5_proj.value_num.notnull()].name.unique()))\n",
    "dict_indicator_dates_num = df_full_5x5_proj[df_full_5x5_proj.name.isin(list_indicators_num)].groupby(\"name\")[\"date_result\"].apply(lambda x: list(set(x))).to_dict()"
   ]
  },
  {
   "cell_type": "markdown",
   "id": "4f58baa0",
   "metadata": {},
   "source": [
    "Nous récupérons aussi la liste d'inidcateurs catégoriels et les dates correspondantes :"
   ]
  },
  {
   "cell_type": "code",
   "execution_count": 8,
   "id": "9a66902c",
   "metadata": {
    "scrolled": true
   },
   "outputs": [],
   "source": [
    "list_indicators_categ = sorted(list(set(df_full_5x5_proj.name.dropna()) - set(list_indicators_num)))\n",
    "dict_indicator_dates_categ = df_full_5x5_proj[df_full_5x5_proj.name.isin(list_indicators_categ)].groupby(\"name\")[\"date_result\"].apply(lambda x: list(set(x))).to_dict()"
   ]
  },
  {
   "cell_type": "markdown",
   "id": "0ffd7c26",
   "metadata": {},
   "source": [
    "Pour chaque indicateur catégoriel,on récupère la liste des catégories qui seront utilisées pour déterminer les couleurs des cartes :"
   ]
  },
  {
   "cell_type": "code",
   "execution_count": 9,
   "id": "36e61f6e",
   "metadata": {
    "scrolled": true
   },
   "outputs": [
    {
     "data": {
      "text/plain": [
       "{'Etat DCE Paramètres physico chimiques généraux INPN 5 km': ['1',\n",
       "  '2',\n",
       "  '3',\n",
       "  'U',\n",
       "  'Unknown'],\n",
       " 'Etat DCE angiospermes INPN 5 km': ['1',\n",
       "  '2',\n",
       "  '3',\n",
       "  'NA',\n",
       "  'Not applicable',\n",
       "  'U',\n",
       "  'Unknown'],\n",
       " 'Etat DCE autres paramètres biologiques INPN 5 km': ['ERROR', 'U', 'Unknown'],\n",
       " 'Etat DCE flore aquatique INPN 5 km': ['1',\n",
       "  '2',\n",
       "  '3',\n",
       "  '4',\n",
       "  '5',\n",
       "  'NA',\n",
       "  'U',\n",
       "  'Unknown'],\n",
       " 'Etat DCE hydrologie ou régime tidal INPN 5 km': ['1',\n",
       "  '2',\n",
       "  'MonitoredButNotUsed',\n",
       "  'NA',\n",
       "  'U',\n",
       "  'Unknown'],\n",
       " 'Etat DCE invertébrés benthiques INPN 5 km': ['1',\n",
       "  '2',\n",
       "  '3',\n",
       "  '4',\n",
       "  '5',\n",
       "  'NA',\n",
       "  'U',\n",
       "  'Unknown'],\n",
       " 'Etat DCE macro algues INPN 5 km': ['1',\n",
       "  '2',\n",
       "  '3',\n",
       "  '4',\n",
       "  'NA',\n",
       "  'Not applicable',\n",
       "  'U',\n",
       "  'Unknown'],\n",
       " 'Etat DCE macrophytes INPN 5 km': ['1',\n",
       "  '3',\n",
       "  '4',\n",
       "  'ERROR',\n",
       "  'N',\n",
       "  'Not applicable',\n",
       "  'U',\n",
       "  'Unknown'],\n",
       " 'Etat DCE phytobenthos INPN 5 km': ['1',\n",
       "  '2',\n",
       "  '3',\n",
       "  '4',\n",
       "  '5',\n",
       "  'NA',\n",
       "  'Not applicable',\n",
       "  'U',\n",
       "  'Unknown'],\n",
       " 'Etat DCE phytoplancton INPN 5 km': ['1',\n",
       "  '2',\n",
       "  '3',\n",
       "  '4',\n",
       "  '5',\n",
       "  'N',\n",
       "  'NA',\n",
       "  'NS',\n",
       "  'U',\n",
       "  'Unknown'],\n",
       " 'Etat DCE poissons INPN 5 km': ['1',\n",
       "  '2',\n",
       "  '3',\n",
       "  '4',\n",
       "  '5',\n",
       "  'NA',\n",
       "  'Not applicable',\n",
       "  'U',\n",
       "  'Unknown'],\n",
       " 'Etat DCE polluants spécifiques au bassin versant INPN 5 km': ['1',\n",
       "  '2',\n",
       "  '3',\n",
       "  'NA',\n",
       "  'U',\n",
       "  'Unknown'],\n",
       " 'Etiages par sous secteur hydro et par mois : observations impossibles - proportions (5 km INPN)': [None],\n",
       " 'Pression DCE : autres pressions INPN 5 km': ['false', 'true'],\n",
       " 'Pression DCE : pollutions diffuses INPN 5 km': ['No', 'Yes'],\n",
       " 'Pression DCE : pollutions ponctuelles INPN 5 km': ['No', 'Yes'],\n",
       " 'Pression DCE : pression hydromorphologique INPN 5 km': ['No',\n",
       "  'Unknown',\n",
       "  'Yes'],\n",
       " 'Pression DCE : prélèvement en eau INPN 5 km': ['', 'false', 'true'],\n",
       " 'RNAOE chimie max., 5 km x 5 km': ['1', '3', 'U'],\n",
       " 'RNAOE max., 5 km x 5 km': ['1', '3', 'U'],\n",
       " 'RNAOE écologie max., 5 km x 5 km': ['1', '3', 'U']}"
      ]
     },
     "execution_count": 9,
     "metadata": {},
     "output_type": "execute_result"
    }
   ],
   "source": [
    "dict_categories_orders = dict(df_full_5x5_proj[df_full_5x5_proj.name.isin(list_indicators_categ)].groupby(\"name\")[\"max_cell_prop_value\"].apply(lambda x: sorted(list(set(x)))))\n",
    "dict_categories_orders"
   ]
  },
  {
   "cell_type": "markdown",
   "id": "e6cd3464",
   "metadata": {},
   "source": [
    "### Représentation d'un indicateur numérique à une date t"
   ]
  },
  {
   "cell_type": "code",
   "execution_count": 10,
   "id": "5166b1fc",
   "metadata": {
    "scrolled": false
   },
   "outputs": [
    {
     "data": {
      "application/vnd.jupyter.widget-view+json": {
       "model_id": "7a03ca58a65d4c83beec9f5116165b29",
       "version_major": 2,
       "version_minor": 0
      },
      "text/plain": [
       "interactive(children=(Dropdown(description='id_indicator', options=(\"Aires d'alimentation de captage (surface)…"
      ]
     },
     "metadata": {},
     "output_type": "display_data"
    }
   ],
   "source": [
    "indicator_id_dp = Dropdown(options=dict_indicator_dates_num.keys())\n",
    "date_dp = Dropdown()\n",
    "def update_date_options(*args):\n",
    "    date_dp.options = sorted(dict_indicator_dates_num[indicator_id_dp.value])\n",
    "indicator_id_dp.observe(update_date_options)\n",
    "\n",
    "region_dp = Dropdown(options=list_regions, value=\"Bretagne\")\n",
    "\n",
    "@interact(id_indicator=indicator_id_dp, date=date_dp, region=region_dp)\n",
    "def plot_indicator_heatmap_interactive(id_indicator, date, region):\n",
    "    \n",
    "    tmp_df = df_full_5x5_proj[(df_full_5x5_proj.name==id_indicator) & (df_full_5x5_proj.date_result==date)]\\\n",
    "        .copy()\\\n",
    "        .dropna(axis=0, subset=[\"value_num\"])\n",
    "    if len(tmp_df) == 0:\n",
    "        print(\"-------------Empty dataframe\")\n",
    "        return\n",
    "    tmp_df.set_index(\"id_cell\", inplace=True)\n",
    "    title = tmp_df.name.values[0] + \" --- \" + date\n",
    "    \n",
    "    center = {\"lat\": 46.227638, \"lon\": 2.213749}\n",
    "    if region == \"Bretagne\":\n",
    "        center = {\"lat\": 48.202047, \"lon\": -2.932644}\n",
    "    if region == \"PACA\":\n",
    "        center = {\"lat\": 43.9351691, \"lon\": 6.0679194}\n",
    "    if region == \"Corse\":\n",
    "        center = {\"lat\": 42.039604, \"lon\": 9.012893}\n",
    "    \n",
    "    zoom = 5 if region == \"\" else 8\n",
    "\n",
    "    fig = px.choropleth_mapbox(tmp_df, \n",
    "                        width=1600, height=800,\n",
    "                        geojson=tmp_df.geometry,\n",
    "                        locations=tmp_df.index,\n",
    "                        color=\"value_num\", hover_name=tmp_df.index,\n",
    "                        title=title,\n",
    "                        hover_data=[\"value_num\", \"date_result\", \"content\"],\n",
    "                        mapbox_style=\"open-street-map\",\n",
    "                       center=center,\n",
    "                       opacity=1.0,\n",
    "                       zoom=zoom\n",
    "                          )\n",
    "    fig.update_geos(fitbounds=\"locations\", visible=True)\n",
    "    fig.update_layout(title_x=0.5, margin={\"r\":0,\"l\":0,\"b\":0})\n",
    "    fig.show(renderer=\"notebook\")\n",
    "    del tmp_df\n",
    "    gc.collect()\n",
    "    print(title)\n"
   ]
  },
  {
   "cell_type": "markdown",
   "id": "acb24427",
   "metadata": {},
   "source": [
    "### Représentation d'un indicateur numérique à une date t, selon un seuil défini"
   ]
  },
  {
   "cell_type": "code",
   "execution_count": 12,
   "id": "76ca5969",
   "metadata": {
    "scrolled": false
   },
   "outputs": [
    {
     "data": {
      "application/vnd.jupyter.widget-view+json": {
       "model_id": "367b6569c4da48ed82e3b6f10ce28dfd",
       "version_major": 2,
       "version_minor": 0
      },
      "text/plain": [
       "interactive(children=(Dropdown(description='id_indicator', index=24, options=(\"Aires d'alimentation de captage…"
      ]
     },
     "metadata": {},
     "output_type": "display_data"
    }
   ],
   "source": [
    "start_indicator = \"Maximum Nitrates sous secteurs hydro 5 km\"\n",
    "indicator_id_dp = Dropdown(options=dict_indicator_dates_num.keys(), value=start_indicator)\n",
    "date_dp = Dropdown(options=sorted(dict_indicator_dates_num[start_indicator]), value=sorted(dict_indicator_dates_num[start_indicator])[0])\n",
    "region_dp = Dropdown(options=list_regions, value=\"Bretagne\")\n",
    "float_slider = FloatSlider()\n",
    "\n",
    "def update_date_options(*args):\n",
    "    date_dp.options = sorted(dict_indicator_dates_num[indicator_id_dp.value])\n",
    "    \n",
    "indicator_id_dp.observe(update_date_options)\n",
    "\n",
    "\n",
    "def update_ranges(*args):\n",
    "    tmp_df = df_full_5x5_proj[(df_full_5x5_proj.name==indicator_id_dp.value) & (df_full_5x5_proj.date_result==date_dp.value)]\n",
    "    _max = tmp_df.value_num.max()\n",
    "    _min = tmp_df.value_num.min()\n",
    "    float_slider.value = (_max-_min)/2\n",
    "    float_slider.min = _min\n",
    "    float_slider.max = _max\n",
    "    float_slider.step = (_max-_min)/10\n",
    "    \n",
    "indicator_id_dp.observe(update_ranges)\n",
    "date_dp.observe(update_ranges)\n",
    "\n",
    "\n",
    "@interact(id_indicator=indicator_id_dp, date=date_dp, region=region_dp, threshold=float_slider)\n",
    "def plot_indicator_threshold(id_indicator, date, region, threshold):\n",
    "    \n",
    "    tmp_df = df_full_5x5_proj[(df_full_5x5_proj.name==id_indicator) & (df_full_5x5_proj.date_result==date)]\\\n",
    "        .copy()\\\n",
    "        .dropna(axis=0, subset=[\"value_num\"])\n",
    "    if len(tmp_df) == 0:\n",
    "        print(\"-------------Empty dataframe\")\n",
    "        return\n",
    "    tmp_df.set_index(\"id_cell\", inplace=True)\n",
    "    tmp_df[\"threshold\"] = tmp_df.value_num.apply(lambda x: \"High\" if x > threshold else \"Low\")\n",
    "    \n",
    "    title = tmp_df.name.values[0] + \" --- \" + date + f\" (> {threshold})\"\n",
    "    \n",
    "    center = {\"lat\": 46.227638, \"lon\": 2.213749}\n",
    "    if region == \"Bretagne\":\n",
    "        center = {\"lat\": 48.202047, \"lon\": -2.932644}\n",
    "    if region == \"PACA\":\n",
    "        center = {\"lat\": 43.9351691, \"lon\": 6.0679194}\n",
    "    if region == \"Corse\":\n",
    "        center = {\"lat\": 42.039604, \"lon\": 9.012893}\n",
    "    \n",
    "    zoom = 5 if region == \"\" else 8\n",
    "  \n",
    "    fig = px.choropleth_mapbox(tmp_df, \n",
    "                        width=1600, height=800,\n",
    "                        geojson=tmp_df.geometry,\n",
    "                        locations=tmp_df.index,\n",
    "                        color=\"threshold\", hover_name=tmp_df.index,\n",
    "                        title=title,\n",
    "                        hover_data=[\"threshold\", \"date_result\", \"content\"],\n",
    "                        mapbox_style=\"open-street-map\",\n",
    "                       center=center,\n",
    "                       opacity=1,\n",
    "                       zoom=zoom,\n",
    "                          )\n",
    "    fig.update_geos(fitbounds=\"locations\", visible=True)\n",
    "    fig.update_layout(title_x=0.5, margin={\"r\":0,\"l\":0,\"b\":0})\n",
    "    fig.show(renderer=\"notebook\")\n",
    "    del tmp_df\n",
    "    gc.collect()\n",
    "    print(title)\n",
    "    "
   ]
  },
  {
   "cell_type": "markdown",
   "id": "5d9218e7",
   "metadata": {},
   "source": [
    "### Représentation d'un indicateur catégoriel à une date t"
   ]
  },
  {
   "cell_type": "code",
   "execution_count": 13,
   "id": "e18f97b2",
   "metadata": {
    "scrolled": false
   },
   "outputs": [
    {
     "data": {
      "application/vnd.jupyter.widget-view+json": {
       "model_id": "07d20ddc3fde44708b1b608329bd1b8e",
       "version_major": 2,
       "version_minor": 0
      },
      "text/plain": [
       "interactive(children=(Dropdown(description='id_indicator', options=('Etat DCE Paramètres physico chimiques gén…"
      ]
     },
     "metadata": {},
     "output_type": "display_data"
    }
   ],
   "source": [
    "indicator_id_dp_str = Dropdown(options=dict_indicator_dates_categ.keys())\n",
    "date_dp_str = Dropdown()\n",
    "def update_date_options_str(*args):\n",
    "    date_dp_str.options = sorted(dict_indicator_dates_categ[indicator_id_dp_str.value])\n",
    "indicator_id_dp_str.observe(update_date_options_str)\n",
    "\n",
    "region_dp = Dropdown(options=list_regions, value=\"Bretagne\")\n",
    "\n",
    "@interact(id_indicator=indicator_id_dp_str, date=date_dp_str, region=region_dp)\n",
    "def plot_indicator_colormap_interactive(id_indicator, date, region):\n",
    "\n",
    "    tmp_df = df_full_5x5_proj[(df_full_5x5_proj.name==id_indicator) & (df_full_5x5_proj.date_result==date)]\\\n",
    "        .copy()\\\n",
    "        .dropna(axis=0, subset=[\"value_str\"])\n",
    "    if len(tmp_df) == 0:\n",
    "        print(\"-------------Empty dataframe\")\n",
    "        return\n",
    "    tmp_df.set_index(\"id_cell\", inplace=True)\n",
    "    title = tmp_df.name.values[0] + \" --- \" + date\n",
    "    \n",
    "    center = {\"lat\": 46.227638, \"lon\": 2.213749}\n",
    "    if region == \"Bretagne\":\n",
    "        center = {\"lat\": 48.202047, \"lon\": -2.932644}\n",
    "    if region == \"PACA\":\n",
    "        center = {\"lat\": 43.9351691, \"lon\": 6.0679194}\n",
    "    if region == \"Corse\":\n",
    "        center = {\"lat\": 42.039604, \"lon\": 9.012893}\n",
    "    \n",
    "    zoom = 5 if region == \"\" else 8\n",
    "    \n",
    "    fig = px.choropleth_mapbox(tmp_df, \n",
    "                        width=1600, height=800,\n",
    "                        geojson=tmp_df.geometry,\n",
    "                        locations=tmp_df.index,\n",
    "                        color=\"max_cell_prop_value\", hover_name=tmp_df.index,\n",
    "                        title=title,\n",
    "                        hover_data=[\"max_cell_prop_value\", \"date_result\", \"content\"],\n",
    "                        mapbox_style=\"open-street-map\",\n",
    "                       center=center,\n",
    "                       opacity=1,\n",
    "                       zoom=zoom,\n",
    "                       category_orders={\"max_cell_prop_value\": dict_categories_orders[id_indicator]}\n",
    "                          )\n",
    "    fig.update_geos(fitbounds=\"locations\", visible=True)\n",
    "    fig.update_layout(title_x=0.5, margin={\"r\":0,\"l\":0,\"b\":0})\n",
    "    fig.show(renderer=\"notebook\")\n",
    "    del tmp_df\n",
    "    gc.collect()\n",
    "    print(title)\n"
   ]
  },
  {
   "cell_type": "markdown",
   "id": "606bb4e9",
   "metadata": {},
   "source": [
    "### Représentation évolution d'un indicateur numérique entre deux dates t1 et t2"
   ]
  },
  {
   "cell_type": "code",
   "execution_count": 14,
   "id": "9ce81a7f",
   "metadata": {},
   "outputs": [
    {
     "name": "stdout",
     "output_type": "stream",
     "text": [
      "CPU times: user 184 ms, sys: 16.2 ms, total: 201 ms\n",
      "Wall time: 206 ms\n"
     ]
    }
   ],
   "source": [
    "%%time\n",
    "\n",
    "# Conversion de la colonne des dates de string vers un objet datetime\n",
    "df_full_5x5_proj[\"date_result_dt\"] = pd.to_datetime(df_full_5x5_proj.date_result)"
   ]
  },
  {
   "cell_type": "code",
   "execution_count": 15,
   "id": "b49aa1a8",
   "metadata": {},
   "outputs": [
    {
     "data": {
      "application/vnd.jupyter.widget-view+json": {
       "model_id": "fd8ddd325dfa46d6a5d086d9e8f01011",
       "version_major": 2,
       "version_minor": 0
      },
      "text/plain": [
       "interactive(children=(Dropdown(description='id_indicator', index=24, options=(\"Aires d'alimentation de captage…"
      ]
     },
     "metadata": {},
     "output_type": "display_data"
    }
   ],
   "source": [
    "indicator_id_dp = Dropdown(options=dict_indicator_dates_num.keys(), value=start_indicator)\n",
    "region_dp = Dropdown(options=list_regions, value=\"Bretagne\")\n",
    "\n",
    "@interact(id_indicator=indicator_id_dp, region=region_dp)\n",
    "def plot_indicator_heatmap_evolution(id_indicator, region):\n",
    "    \n",
    "    tmp_df = df_full_5x5_proj[(df_full_5x5_proj.name==id_indicator)]\\\n",
    "        .copy()\\\n",
    "        .dropna(axis=0, subset=[\"value_num\"])\n",
    "    if len(tmp_df) == 0:\n",
    "        print(\"-------------Empty dataframe\")\n",
    "        return\n",
    "    tmp_df.set_index(\"id_cell\", inplace=True)\n",
    "    \n",
    "    date_min, date_max = tmp_df.date_result_dt.min(), tmp_df.date_result_dt.max()\n",
    "    if date_min == date_max:\n",
    "        print(\"Single date: \", date_min)\n",
    "        return\n",
    "    \n",
    "    title = \"Evolution \" + tmp_df.name.values[0] + \" : \"+ str(date_min)+\" --> \"+str(date_max)\n",
    "    \n",
    "    def delta_df(df):\n",
    "        try:\n",
    "            return df[df.date_result_dt == date_max].value_num.values[0] - df[df.date_result_dt == date_min].value_num.values[0]\n",
    "        except:\n",
    "            return np.nan\n",
    "    \n",
    "    tmp_df_delta = tmp_df.groupby(\"id_cell\").apply(lambda df: delta_df(df)).reset_index().rename({0: \"Values\"}, axis=1)\n",
    "    tmp_df = tmp_df[[\"geometry\", \"content\"]].merge(tmp_df_delta, on=\"id_cell\", how=\"left\")\n",
    "    \n",
    "    center = {\"lat\": 46.227638, \"lon\": 2.213749}\n",
    "    if region == \"Bretagne\":\n",
    "        center = {\"lat\": 48.202047, \"lon\": -2.932644}\n",
    "    if region == \"PACA\":\n",
    "        center = {\"lat\": 43.9351691, \"lon\": 6.0679194}\n",
    "    if region == \"Corse\":\n",
    "        center = {\"lat\": 42.039604, \"lon\": 9.012893}\n",
    "    \n",
    "    zoom = 5 if region == \"\" else 8\n",
    "        \n",
    "    fig = px.choropleth_mapbox(tmp_df, \n",
    "                        width=1600, height=800,\n",
    "                        geojson=tmp_df.geometry,\n",
    "                        locations=tmp_df.index,\n",
    "                        color=\"Values\", hover_name=tmp_df.index,\n",
    "                        title=title,\n",
    "                        hover_data=[\"Values\", \"content\"],\n",
    "                        mapbox_style=\"open-street-map\",\n",
    "                       center=center,\n",
    "                       opacity=1,\n",
    "                       zoom=zoom,\n",
    "                          )\n",
    "    fig.update_geos(fitbounds=\"locations\", visible=True)\n",
    "    fig.update_layout(title_x=0.5, margin={\"r\":0,\"l\":0,\"b\":0})\n",
    "    fig.show(renderer=\"notebook\")\n",
    "    del tmp_df\n",
    "    gc.collect()\n",
    "    print(title)"
   ]
  },
  {
   "cell_type": "code",
   "execution_count": null,
   "id": "a633c597",
   "metadata": {},
   "outputs": [],
   "source": []
  },
  {
   "cell_type": "markdown",
   "id": "3bcc0d76",
   "metadata": {},
   "source": [
    "### Représentation de l'évolution d'un indicateur catégoriel entre deux dates t1 et t2"
   ]
  },
  {
   "cell_type": "code",
   "execution_count": 16,
   "id": "b1384ebc",
   "metadata": {
    "scrolled": false
   },
   "outputs": [
    {
     "data": {
      "application/vnd.jupyter.widget-view+json": {
       "model_id": "f006046b8d3a4677b2604e490c21dc41",
       "version_major": 2,
       "version_minor": 0
      },
      "text/plain": [
       "interactive(children=(Dropdown(description='id_indicator', options=('Etat DCE Paramètres physico chimiques gén…"
      ]
     },
     "metadata": {},
     "output_type": "display_data"
    }
   ],
   "source": [
    "indicator_id_dp_str = Dropdown(options=dict_indicator_dates_categ.keys())\n",
    "\n",
    "region_dp = Dropdown(options=list_regions, value=\"Bretagne\")\n",
    "\n",
    "@interact(id_indicator=indicator_id_dp_str, region=region_dp)\n",
    "def plot_indicator_colormap_evolution(id_indicator, region):\n",
    "    \n",
    "    # calculer le delta entre deux dates\n",
    "    def delta_df_categorical(df):\n",
    "        try:\n",
    "            value_t1 = df[df.date_result_dt == date_min].max_cell_prop_value.values[0]\n",
    "            value_t2 = df[df.date_result_dt == date_max].max_cell_prop_value.values[0]\n",
    "            delta = f\"{value_t1} --> {value_t2}\" if value_t1 != value_t2 else value_t1\n",
    "            return delta\n",
    "        except:\n",
    "            return None\n",
    "\n",
    "    tmp_df = df_full_5x5_proj[(df_full_5x5_proj.name==id_indicator)]\\\n",
    "        .copy()\\\n",
    "        .dropna(axis=0, subset=[\"value_str\"])\n",
    "    if len(tmp_df) == 0:\n",
    "        print(\"-------------Empty dataframe\")\n",
    "        return\n",
    "    tmp_df.set_index(\"id_cell\", inplace=True)\n",
    "    \n",
    "    \n",
    "    date_min, date_max = tmp_df.date_result_dt.min(), tmp_df.date_result_dt.max()\n",
    "    if date_min == date_max:\n",
    "        print(\"Single date: \", date_min)\n",
    "        return\n",
    "    \n",
    "    title = \"Evolution \" + tmp_df.name.values[0] + \" : \"+ str(date_min)+\" --> \"+str(date_max)\n",
    "    \n",
    "    tmp_df_delta = tmp_df.groupby(\"id_cell\").apply(lambda df: delta_df_categorical(df)).reset_index().rename({0: \"Values\"}, axis=1)\n",
    "    tmp_df = tmp_df[[\"geometry\", \"content\"]].merge(tmp_df_delta, on=\"id_cell\", how=\"left\")\n",
    "    tmp_df = tmp_df.dropna(axis=0, subset=[\"Values\"])\n",
    "    \n",
    "    center = {\"lat\": 46.227638, \"lon\": 2.213749}\n",
    "    if region == \"Bretagne\":\n",
    "        center = {\"lat\": 48.202047, \"lon\": -2.932644}\n",
    "    if region == \"PACA\":\n",
    "        center = {\"lat\": 43.9351691, \"lon\": 6.0679194}\n",
    "    if region == \"Corse\":\n",
    "        center = {\"lat\": 42.039604, \"lon\": 9.012893}\n",
    "    \n",
    "    zoom = 5 if region == \"\" else 8\n",
    "    \n",
    "    fig = px.choropleth_mapbox(tmp_df, \n",
    "                        width=1600, height=800,\n",
    "                        geojson=tmp_df.geometry,\n",
    "                        locations=tmp_df.index,\n",
    "                        color=\"Values\", hover_name=tmp_df.index,\n",
    "                        title=title,\n",
    "                        hover_data=[\"Values\", \"content\"],\n",
    "                        mapbox_style=\"open-street-map\",\n",
    "                       center=center,\n",
    "                       opacity=1,\n",
    "                       zoom=zoom,\n",
    "                          )\n",
    "    fig.update_geos(fitbounds=\"locations\", visible=True)\n",
    "    fig.update_layout(title_x=0.5, margin={\"r\":0,\"l\":0,\"b\":0})\n",
    "    fig.show(renderer=\"notebook\")\n",
    "    del tmp_df\n",
    "    gc.collect()\n",
    "    print(title)\n"
   ]
  },
  {
   "cell_type": "code",
   "execution_count": null,
   "id": "0ed997e6",
   "metadata": {},
   "outputs": [],
   "source": []
  },
  {
   "cell_type": "markdown",
   "id": "f0796f5f",
   "metadata": {},
   "source": [
    "### Représentation du croisement entre deux indicateurs numériques"
   ]
  },
  {
   "cell_type": "code",
   "execution_count": 17,
   "id": "017ad437",
   "metadata": {
    "scrolled": false
   },
   "outputs": [
    {
     "data": {
      "application/vnd.jupyter.widget-view+json": {
       "model_id": "f899a6630b694eff9600f76b64ec0b36",
       "version_major": 2,
       "version_minor": 0
      },
      "text/plain": [
       "interactive(children=(Dropdown(description='id_indicator', index=24, options=(\"Aires d'alimentation de captage…"
      ]
     },
     "metadata": {},
     "output_type": "display_data"
    }
   ],
   "source": [
    "start_indicator = \"Maximum Nitrates sous secteurs hydro 5 km\"\n",
    "start_indicator2 = \"Maximum Glyphosate sous secteurs hydro 5 km\"\n",
    "indicator_id_dp = Dropdown(options=dict_indicator_dates_num.keys(), value=start_indicator)\n",
    "indicator_id_dp2 = Dropdown(options=dict_indicator_dates_num.keys(), value=start_indicator2)\n",
    "start_dates = sorted(list(set(dict_indicator_dates_num[start_indicator]).intersection(set(dict_indicator_dates_num[start_indicator2]))))\n",
    "date_dp = Dropdown(options=start_dates, value=start_dates[0])\n",
    "region_dp = Dropdown(options=list_regions, value=\"Bretagne\")\n",
    "float_slider = FloatSlider()\n",
    "float_slider2 = FloatSlider()\n",
    "\n",
    "def update_date_options(*args):\n",
    "    date_dp.options = sorted(list(set(dict_indicator_dates_num[indicator_id_dp.value]).intersection(set(dict_indicator_dates_num[indicator_id_dp2.value]))))\n",
    "    \n",
    "indicator_id_dp.observe(update_date_options)\n",
    "indicator_id_dp2.observe(update_date_options)\n",
    "\n",
    "\n",
    "def update_ranges(*args):\n",
    "    tmp_df = df_full_5x5_proj[(df_full_5x5_proj.name==indicator_id_dp.value) & (df_full_5x5_proj.date_result==date_dp.value)]\n",
    "    _max = tmp_df.value_num.max()\n",
    "    _min = tmp_df.value_num.min()\n",
    "    float_slider.value = (_max-_min)/2\n",
    "    float_slider.min = _min\n",
    "    float_slider.max = _max\n",
    "    float_slider.step = (_max-_min)/10\n",
    "    \n",
    "    tmp_df = df_full_5x5_proj[(df_full_5x5_proj.name==indicator_id_dp2.value) & (df_full_5x5_proj.date_result==date_dp.value)]\n",
    "    _max = tmp_df.value_num.max()\n",
    "    _min = tmp_df.value_num.min()\n",
    "    float_slider2.value = (_max-_min)/2\n",
    "    float_slider2.min = _min\n",
    "    float_slider2.max = _max\n",
    "    float_slider2.step = (_max-_min)/10\n",
    "    \n",
    "indicator_id_dp.observe(update_ranges)\n",
    "indicator_id_dp2.observe(update_ranges)\n",
    "date_dp.observe(update_ranges)\n",
    "\n",
    "\n",
    "@interact(id_indicator=indicator_id_dp, id_indicator2=indicator_id_dp2, date=date_dp, region=region_dp, threshold=float_slider, threshold2=float_slider2)\n",
    "def plot_cross_indicator_num(id_indicator, id_indicator2, date, region, threshold, threshold2):\n",
    "    \n",
    "    tmp_df = df_full_5x5_proj[(df_full_5x5_proj.name.isin([id_indicator, id_indicator2])) & (df_full_5x5_proj.date_result==date)]\\\n",
    "        .copy()\\\n",
    "        .dropna(axis=0, subset=[\"value_num\"])\n",
    "    if len(tmp_df) == 0:\n",
    "        print(\"-------------Empty dataframe\")\n",
    "        return\n",
    "    \n",
    "    tmp_df[\"cross_values\"] = None\n",
    "    tmp_df.loc[tmp_df.name==id_indicator, \"cross_values\"] = tmp_df[tmp_df.name==id_indicator].value_num.apply(lambda x: \"High\" if x > threshold else \"Low\")\n",
    "    tmp_df.loc[tmp_df.name==id_indicator2, \"cross_values\"] = tmp_df[tmp_df.name==id_indicator2].value_num.apply(lambda x: \"High\" if x > threshold2 else \"Low\")\n",
    "    \n",
    "    # calculer le delta entre deux dates\n",
    "    def cross_df_categorical(df):\n",
    "        try:\n",
    "            value_t1 = df[df[\"name\"] == id_indicator].cross_values.values[0]\n",
    "            value_t2 = df[df[\"name\"] == id_indicator2].cross_values.values[0]\n",
    "            delta = f\"'{value_t1}' X '{value_t2}'\"\n",
    "            return delta\n",
    "        except Exception as e:\n",
    "            return None\n",
    "    \n",
    "    cells_to_keep = tmp_df.groupby(\"id_cell\")[\"name\"].apply(len)\n",
    "    cells_to_keep = cells_to_keep[cells_to_keep == 2].index.tolist()\n",
    "    tmp_df = tmp_df[tmp_df.id_cell.isin(cells_to_keep)]\n",
    "    tmp_df_delta = tmp_df.groupby(\"id_cell\").apply(lambda df: cross_df_categorical(df)).reset_index().rename({0: \"cross_values\"}, axis=1)\n",
    "    tmp_df = tmp_df[[\"id_cell\", \"geometry\", \"content\", \"date_result\"]].merge(tmp_df_delta, on=\"id_cell\", how=\"left\")\n",
    "    tmp_df = tmp_df.dropna(axis=0, subset=[\"cross_values\"])\n",
    "    \n",
    "    title = f\"{id_indicator} / {id_indicator2}\" + \" --- \" + date\n",
    "    \n",
    "    center = {\"lat\": 46.227638, \"lon\": 2.213749}\n",
    "    if region == \"Bretagne\":\n",
    "        center = {\"lat\": 48.202047, \"lon\": -2.932644}\n",
    "    if region == \"PACA\":\n",
    "        center = {\"lat\": 43.9351691, \"lon\": 6.0679194}\n",
    "    if region == \"Corse\":\n",
    "        center = {\"lat\": 42.039604, \"lon\": 9.012893}\n",
    "    \n",
    "    zoom = 5 if region == \"\" else 8  \n",
    "    \n",
    "    tmp_df.set_index(\"id_cell\", inplace=True)\n",
    "    fig = px.choropleth_mapbox(tmp_df, \n",
    "                        width=1600, height=800,\n",
    "                        geojson=tmp_df.geometry,\n",
    "                        locations=tmp_df.index,\n",
    "                        color=\"cross_values\", hover_name=tmp_df.index,\n",
    "                        title=title,\n",
    "                        hover_data=[\"cross_values\", \"date_result\", \"content\"],\n",
    "                        mapbox_style=\"open-street-map\",\n",
    "                       center=center,\n",
    "                       opacity=1.0,\n",
    "                       zoom=zoom,\n",
    "                          )\n",
    "    fig.update_geos(fitbounds=\"locations\", visible=True)\n",
    "    fig.update_layout(title_x=0.5, margin={\"r\":0,\"l\":0,\"b\":0})\n",
    "    fig.show(renderer=\"notebook\")\n",
    "    del tmp_df\n",
    "    gc.collect()\n",
    "    print(title)\n",
    "    "
   ]
  },
  {
   "cell_type": "code",
   "execution_count": null,
   "id": "1c4de39d",
   "metadata": {},
   "outputs": [],
   "source": []
  }
 ],
 "metadata": {
  "kernelspec": {
   "display_name": "Python 3 (ipykernel)",
   "language": "python",
   "name": "python3"
  },
  "language_info": {
   "codemirror_mode": {
    "name": "ipython",
    "version": 3
   },
   "file_extension": ".py",
   "mimetype": "text/x-python",
   "name": "python",
   "nbconvert_exporter": "python",
   "pygments_lexer": "ipython3",
   "version": "3.8.12"
  }
 },
 "nbformat": 4,
 "nbformat_minor": 5
}
